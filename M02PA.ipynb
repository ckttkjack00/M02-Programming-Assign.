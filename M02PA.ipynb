{
 "cells": [
  {
   "cell_type": "code",
   "execution_count": null,
   "id": "9738d88d-0ed2-4480-b44e-767b70ce6711",
   "metadata": {},
   "outputs": [],
   "source": [
    "# Kendal Jackson\n",
    "#SDEV\n",
    "#AUG 31 2024"
   ]
  },
  {
   "cell_type": "code",
   "execution_count": null,
   "id": "396920d6-f8a0-4175-9ba1-964e175efef7",
   "metadata": {},
   "outputs": [],
   "source": [
    "# Section 4.1"
   ]
  },
  {
   "cell_type": "code",
   "execution_count": 6,
   "id": "f46e9c90-2c9e-4dda-9512-4ba06e85642a",
   "metadata": {},
   "outputs": [
    {
     "name": "stdout",
     "output_type": "stream",
     "text": [
      "too high\n"
     ]
    }
   ],
   "source": [
    "# Assign a number between 1 and 10 to the variable secret\n",
    "secret = 8\n",
    "\n",
    "# Assign another number between 1 and 10 to the variable guess\n",
    "guess = 9\n",
    "\n",
    "# Conditional tests to check if the guess is too low, too high, or just right\n",
    "if guess < secret:\n",
    "    print('too low')\n",
    "elif guess > secret:\n",
    "    print('too high')\n",
    "else:\n",
    "    print('just right')\n"
   ]
  },
  {
   "cell_type": "code",
   "execution_count": 1,
   "id": "c828cf03-e78d-4567-af34-179efdc906d0",
   "metadata": {},
   "outputs": [
    {
     "name": "stdout",
     "output_type": "stream",
     "text": [
      "too low\n"
     ]
    }
   ],
   "source": [
    "# Assign a number between 1 and 10 to the variable secret\n",
    "secret = 7\n",
    "\n",
    "# Assign another number between 1 and 10 to the variable guess\n",
    "guess = 5\n",
    "\n",
    "# Conditional tests to check if the guess is too low, too high, or just right\n",
    "if guess < secret:\n",
    "    print('too low')\n",
    "elif guess > secret:\n",
    "    print('too high')\n",
    "else:\n",
    "    print('just right')\n"
   ]
  },
  {
   "cell_type": "code",
   "execution_count": null,
   "id": "574b630b-1de6-4207-af75-0a53ae938c22",
   "metadata": {},
   "outputs": [],
   "source": [
    "# Section 4.2"
   ]
  },
  {
   "cell_type": "code",
   "execution_count": 8,
   "id": "e5f6e1a3-c8cd-4be6-b820-dea6cca584c4",
   "metadata": {},
   "outputs": [
    {
     "name": "stdout",
     "output_type": "stream",
     "text": [
      "cherry\n"
     ]
    }
   ],
   "source": [
    "# Assign True or False to the variables small and green\n",
    "small = True\n",
    "green = False\n",
    "\n",
    "# Determine which item matches the choices\n",
    "if small and green:\n",
    "    print('pea')\n",
    "elif small and not green:\n",
    "    print('cherry')\n",
    "elif not small and green:\n",
    "    print('watermelon')\n",
    "else:\n",
    "    print('pumpkin')\n"
   ]
  },
  {
   "cell_type": "code",
   "execution_count": 10,
   "id": "f8bd3a85-d0cf-44d0-bec3-ccb008ab0a1b",
   "metadata": {},
   "outputs": [
    {
     "name": "stdout",
     "output_type": "stream",
     "text": [
      "pea\n"
     ]
    }
   ],
   "source": [
    "# Assign True or False to the variables small and green\n",
    "small = True\n",
    "green = True\n",
    "\n",
    "# Determine which item matches the choices\n",
    "if small and green:\n",
    "    print('pea')\n",
    "elif small and not green:\n",
    "    print('cherry')\n",
    "elif not small and green:\n",
    "    print('watermelon')\n",
    "else:\n",
    "    print('pumpkin')\n"
   ]
  },
  {
   "cell_type": "code",
   "execution_count": null,
   "id": "c5756a36-de36-4210-81a3-0175da3dcd9e",
   "metadata": {},
   "outputs": [],
   "source": [
    "# Section 6.1"
   ]
  },
  {
   "cell_type": "code",
   "execution_count": 12,
   "id": "16ebf07b-0c93-4631-bc49-173624cef55c",
   "metadata": {},
   "outputs": [
    {
     "name": "stdout",
     "output_type": "stream",
     "text": [
      "3\n",
      "2\n",
      "1\n",
      "0\n"
     ]
    }
   ],
   "source": [
    "# List of values\n",
    "numbers = [3, 2, 1, 0]\n",
    "\n",
    "# For loop to print each value\n",
    "for number in numbers:\n",
    "    print(number)\n"
   ]
  },
  {
   "cell_type": "code",
   "execution_count": null,
   "id": "fd4afba5-d2a1-4d51-bcc4-a93d53b8112d",
   "metadata": {},
   "outputs": [],
   "source": [
    "# Section 6.2"
   ]
  },
  {
   "cell_type": "code",
   "execution_count": 14,
   "id": "6b266075-890f-48d9-a7a2-d82a2257735e",
   "metadata": {},
   "outputs": [
    {
     "name": "stdout",
     "output_type": "stream",
     "text": [
      "too low\n",
      "too low\n",
      "too low\n",
      "too low\n",
      "too low\n",
      "too low\n",
      "found it!\n"
     ]
    }
   ],
   "source": [
    "# Assign values to variables\n",
    "guess_me = 7\n",
    "number = 1\n",
    "\n",
    "# While loop to compare number with guess_me\n",
    "while True:\n",
    "    if number < guess_me:\n",
    "        print('too low')\n",
    "    elif number == guess_me:\n",
    "        print('found it!')\n",
    "        break\n",
    "    else:\n",
    "        print('oops')\n",
    "        break\n",
    "    \n",
    "    number += 1  # Increment number at the end of the loop\n"
   ]
  },
  {
   "cell_type": "code",
   "execution_count": null,
   "id": "e2fac9cf-f45b-4439-8b33-52e2edaaa956",
   "metadata": {},
   "outputs": [],
   "source": [
    "# Section 6.3"
   ]
  },
  {
   "cell_type": "code",
   "execution_count": 16,
   "id": "e94348b5-31bd-4b86-9106-d31d18cfc3c6",
   "metadata": {},
   "outputs": [
    {
     "name": "stdout",
     "output_type": "stream",
     "text": [
      "too low\n",
      "too low\n",
      "too low\n",
      "too low\n",
      "too low\n",
      "found it!\n"
     ]
    }
   ],
   "source": [
    "# Assign value to guess_me\n",
    "guess_me = 5\n",
    "\n",
    "# Use a for loop to iterate over the range(10)\n",
    "for number in range(10):\n",
    "    if number < guess_me:\n",
    "        print('too low')\n",
    "    elif number == guess_me:\n",
    "        print('found it!')\n",
    "        break\n",
    "    else:\n",
    "        print('oops')\n",
    "        break\n"
   ]
  },
  {
   "cell_type": "code",
   "execution_count": null,
   "id": "a00eaa60-d361-435d-957e-0e654ed7eb35",
   "metadata": {},
   "outputs": [],
   "source": []
  }
 ],
 "metadata": {
  "kernelspec": {
   "display_name": "Python 3 (ipykernel)",
   "language": "python",
   "name": "python3"
  },
  "language_info": {
   "codemirror_mode": {
    "name": "ipython",
    "version": 3
   },
   "file_extension": ".py",
   "mimetype": "text/x-python",
   "name": "python",
   "nbconvert_exporter": "python",
   "pygments_lexer": "ipython3",
   "version": "3.12.4"
  }
 },
 "nbformat": 4,
 "nbformat_minor": 5
}
